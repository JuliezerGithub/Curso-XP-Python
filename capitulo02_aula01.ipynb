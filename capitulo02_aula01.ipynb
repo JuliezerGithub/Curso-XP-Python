{
  "nbformat": 4,
  "nbformat_minor": 0,
  "metadata": {
    "colab": {
      "provenance": [],
      "authorship_tag": "ABX9TyMYgwr8c/C1TNHh2iGUhR6y",
      "include_colab_link": true
    },
    "kernelspec": {
      "name": "python3",
      "display_name": "Python 3"
    },
    "language_info": {
      "name": "python"
    }
  },
  "cells": [
    {
      "cell_type": "markdown",
      "metadata": {
        "id": "view-in-github",
        "colab_type": "text"
      },
      "source": [
        "<a href=\"https://colab.research.google.com/github/JuliezerGithub/Curso-XP-Python/blob/main/capitulo02_aula01.ipynb\" target=\"_parent\"><img src=\"https://colab.research.google.com/assets/colab-badge.svg\" alt=\"Open In Colab\"/></a>"
      ]
    },
    {
      "cell_type": "code",
      "execution_count": 1,
      "metadata": {
        "colab": {
          "base_uri": "https://localhost:8080/"
        },
        "id": "bpXEJPytTyrv",
        "outputId": "45d6fdce-929c-48de-e54d-e3a1f83f8e50"
      },
      "outputs": [
        {
          "output_type": "stream",
          "name": "stdout",
          "text": [
            "Resultado Final:\n",
            "menores:  [0, 1, 2, 3, 4]\n",
            "maiores:  [6, 7, 8, 9]\n"
          ]
        }
      ],
      "source": [
        "# Define o valor do limiar\n",
        "limiar = 5\n",
        "\n",
        "menores = [] # Cria lista menores\n",
        "maiores = [] # Cria lista maiores\n",
        "\n",
        "# Divide os números de 1 a 10 em maiores e menores\n",
        "for i in range(10):\n",
        "    if (i < limiar):\n",
        "      menores.append(i)\n",
        "    elif (i > limiar):\n",
        "      maiores.append(i)\n",
        "\n",
        "#imprime na tela os valores das listas\n",
        "print(\"Resultado Final:\")\n",
        "print(\"menores: \", menores)\n",
        "print(\"maiores: \", maiores)"
      ]
    }
  ]
}