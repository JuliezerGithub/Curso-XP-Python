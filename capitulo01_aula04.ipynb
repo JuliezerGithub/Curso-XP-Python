{
  "nbformat": 4,
  "nbformat_minor": 0,
  "metadata": {
    "colab": {
      "provenance": [],
      "authorship_tag": "ABX9TyNP3XRQ0zCS87oKEYGjAXG5",
      "include_colab_link": true
    },
    "kernelspec": {
      "name": "python3",
      "display_name": "Python 3"
    },
    "language_info": {
      "name": "python"
    }
  },
  "cells": [
    {
      "cell_type": "markdown",
      "metadata": {
        "id": "view-in-github",
        "colab_type": "text"
      },
      "source": [
        "<a href=\"https://colab.research.google.com/github/JuliezerGithub/Curso-XP-Python/blob/main/capitulo01_aula04.ipynb\" target=\"_parent\"><img src=\"https://colab.research.google.com/assets/colab-badge.svg\" alt=\"Open In Colab\"/></a>"
      ]
    },
    {
      "cell_type": "code",
      "execution_count": 3,
      "metadata": {
        "colab": {
          "base_uri": "https://localhost:8080/"
        },
        "id": "HVNyDGE1iEUo",
        "outputId": "b4858a92-7902-4dfb-c936-8753d8b84f5b"
      },
      "outputs": [
        {
          "output_type": "stream",
          "name": "stdout",
          "text": [
            "Olá Juliezer da Silva seja bem vindo!\n"
          ]
        }
      ],
      "source": [
        "nome = 'Juliezer da Silva'\n",
        "print('Olá', nome, 'seja bem vindo!')"
      ]
    },
    {
      "cell_type": "code",
      "source": [
        "pessoa = 'João da Silva'\n",
        "print('Olá', pessoa)"
      ],
      "metadata": {
        "colab": {
          "base_uri": "https://localhost:8080/"
        },
        "id": "idaNtw1vivGS",
        "outputId": "1828a4f0-29d4-48a5-e7c2-bc1f54214d6d"
      },
      "execution_count": 4,
      "outputs": [
        {
          "output_type": "stream",
          "name": "stdout",
          "text": [
            "Olá João da Silva\n"
          ]
        }
      ]
    },
    {
      "cell_type": "code",
      "source": [
        "n = 1\n",
        "n + 2\n",
        "n + 99"
      ],
      "metadata": {
        "colab": {
          "base_uri": "https://localhost:8080/"
        },
        "id": "-EIhxBD6jPdZ",
        "outputId": "07577e76-fe71-4855-93b5-890f486869ad"
      },
      "execution_count": 6,
      "outputs": [
        {
          "output_type": "execute_result",
          "data": {
            "text/plain": [
              "100"
            ]
          },
          "metadata": {},
          "execution_count": 6
        }
      ]
    }
  ]
}