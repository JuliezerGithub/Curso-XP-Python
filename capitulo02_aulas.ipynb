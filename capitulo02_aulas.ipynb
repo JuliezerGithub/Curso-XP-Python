{
  "nbformat": 4,
  "nbformat_minor": 0,
  "metadata": {
    "colab": {
      "provenance": [],
      "toc_visible": true,
      "authorship_tag": "ABX9TyOjeeBVNsCwaLFnVRZhiW4Y",
      "include_colab_link": true
    },
    "kernelspec": {
      "name": "python3",
      "display_name": "Python 3"
    },
    "language_info": {
      "name": "python"
    }
  },
  "cells": [
    {
      "cell_type": "markdown",
      "metadata": {
        "id": "view-in-github",
        "colab_type": "text"
      },
      "source": [
        "<a href=\"https://colab.research.google.com/github/JuliezerGithub/Curso-XP-Python/blob/main/capitulo02_aulas.ipynb\" target=\"_parent\"><img src=\"https://colab.research.google.com/assets/colab-badge.svg\" alt=\"Open In Colab\"/></a>"
      ]
    },
    {
      "cell_type": "markdown",
      "source": [
        "2.1 - A sintaxe da Linguagem"
      ],
      "metadata": {
        "id": "JeOxQliPXCdR"
      }
    },
    {
      "cell_type": "code",
      "execution_count": null,
      "metadata": {
        "colab": {
          "base_uri": "https://localhost:8080/"
        },
        "id": "bpXEJPytTyrv",
        "outputId": "45d6fdce-929c-48de-e54d-e3a1f83f8e50"
      },
      "outputs": [
        {
          "output_type": "stream",
          "name": "stdout",
          "text": [
            "Resultado Final:\n",
            "menores:  [0, 1, 2, 3, 4]\n",
            "maiores:  [6, 7, 8, 9]\n"
          ]
        }
      ],
      "source": [
        "# Define o valor do limiar\n",
        "limiar = 5\n",
        "\n",
        "menores = [] # Cria lista menores\n",
        "maiores = [] # Cria lista maiores\n",
        "\n",
        "# Divide os números de 1 a 10 em maiores e menores\n",
        "for i in range(10):\n",
        "    if (i < limiar):\n",
        "      menores.append(i)\n",
        "    elif (i > limiar):\n",
        "      maiores.append(i)\n",
        "\n",
        "#imprime na tela os valores das listas\n",
        "print(\"Resultado Final:\")\n",
        "print(\"menores: \", menores)\n",
        "print(\"maiores: \", maiores)"
      ]
    },
    {
      "cell_type": "markdown",
      "source": [
        "2.2 - Variáveis e Keywords"
      ],
      "metadata": {
        "id": "NioReAI3W6Cp"
      }
    },
    {
      "cell_type": "code",
      "source": [
        "'''A criação de uma variável é realizada por meio da declaração e\n",
        "a atribuição de um valor à ela (No Python é tipada)\n",
        "\n",
        "variavel = valor'''\n",
        "\n",
        "'''pessoa_ex = 'Juliezer da Silva'\n",
        "print(pessoa_ex)\n",
        "pessoa_ex #Exemplo de tipada'''\n",
        "\n",
        "'''-------------------------------------------------------------'''\n",
        "pessoa = 'Juliezer da Siva' # str = string (texto)\n",
        "idade = 29 # int = inteiro\n",
        "altura = 1.79 # float = decimal (Separado por . é float ; Separado por , é tupla)\n",
        "\n",
        "print(\"O\", pessoa, \"tem\", idade, 'anos, e sua altura é:', altura)"
      ],
      "metadata": {
        "colab": {
          "base_uri": "https://localhost:8080/"
        },
        "id": "_70N3tU3W_vQ",
        "outputId": "e42e87d6-dd3c-4b78-ebe9-a3784a248626"
      },
      "execution_count": null,
      "outputs": [
        {
          "output_type": "stream",
          "name": "stdout",
          "text": [
            "O Juliezer da Siva tem 29 anos, e sua altura é: 1.79\n"
          ]
        }
      ]
    },
    {
      "cell_type": "code",
      "source": [
        "texto = 'Este é um texto muiiiiiiiiiiiiiiiiiiiiiiiiitoooooooooooooooooooooooooogrande'\n",
        "poncentagem = 0.5\n",
        "numero = -100\n",
        "print(numero,\"\\n\", texto)"
      ],
      "metadata": {
        "colab": {
          "base_uri": "https://localhost:8080/"
        },
        "id": "8hjuibZcXaCV",
        "outputId": "574c1d23-4b8b-49d8-9cdf-b62c6e7f0d99"
      },
      "execution_count": null,
      "outputs": [
        {
          "output_type": "stream",
          "name": "stdout",
          "text": [
            "-100 \n",
            " Este é um texto muiiiiiiiiiiiiiiiiiiiiiiiiitoooooooooooooooooooooooooogrande\n"
          ]
        }
      ]
    },
    {
      "cell_type": "code",
      "source": [
        "idade = 2024 - 1994\n",
        "print(idade)"
      ],
      "metadata": {
        "colab": {
          "base_uri": "https://localhost:8080/"
        },
        "id": "7GtjfsVOaNDZ",
        "outputId": "f17f29a8-4851-4bd2-a882-b05efdf89bb5"
      },
      "execution_count": null,
      "outputs": [
        {
          "output_type": "stream",
          "name": "stdout",
          "text": [
            "30\n"
          ]
        }
      ]
    },
    {
      "cell_type": "code",
      "source": [
        "decimal = 15/3\n",
        "print(decimal) # Em paython o resultado de uma divisão é sempre um número decimal"
      ],
      "metadata": {
        "colab": {
          "base_uri": "https://localhost:8080/"
        },
        "id": "cXOmf7VoafFS",
        "outputId": "c4943a8b-0584-4086-9697-3a0ad0c30682"
      },
      "execution_count": null,
      "outputs": [
        {
          "output_type": "stream",
          "name": "stdout",
          "text": [
            "5.0\n"
          ]
        }
      ]
    },
    {
      "cell_type": "code",
      "source": [
        "#Python é key sensitive\n",
        "nome = \"Juliezer\"\n",
        "NOME = \"Nayara\"\n",
        "Nome = \"Silva\"\n",
        "print(nome, NOME, Nome)"
      ],
      "metadata": {
        "colab": {
          "base_uri": "https://localhost:8080/"
        },
        "id": "DtNNjq6Ych4s",
        "outputId": "4417a167-f516-4fd8-d414-8fbafaf0bfc0"
      },
      "execution_count": null,
      "outputs": [
        {
          "output_type": "stream",
          "name": "stdout",
          "text": [
            "Juliezer Nayara Silva\n"
          ]
        }
      ]
    },
    {
      "cell_type": "code",
      "source": [
        "_valor_total_ = 1000 #Aceita _ no começo e meio\n",
        "print(_valor_total_)"
      ],
      "metadata": {
        "colab": {
          "base_uri": "https://localhost:8080/"
        },
        "id": "4Fyd53Fbes1R",
        "outputId": "0d90e1be-9ca4-448c-8363-49ec56894125"
      },
      "execution_count": null,
      "outputs": [
        {
          "output_type": "stream",
          "name": "stdout",
          "text": [
            "1000\n"
          ]
        }
      ]
    },
    {
      "cell_type": "markdown",
      "source": [
        "2.3 - Tipos de Erros do Python"
      ],
      "metadata": {
        "id": "_9tlL_HWe90e"
      }
    },
    {
      "cell_type": "code",
      "source": [
        "#Erro de sintaxe --> Identação\n",
        "#Erro tempo de execução --> Interpretador não consegue executar determinado comando\n",
        "#Erro Lógicos --> Erro da lógica do programador"
      ],
      "metadata": {
        "id": "MD8K-Fa0fVx0"
      },
      "execution_count": 1,
      "outputs": []
    },
    {
      "cell_type": "code",
      "source": [
        "#Erro de sintaxe\n",
        "x = 3\n",
        "y = 5\n",
        "\n",
        "print x + y"
      ],
      "metadata": {
        "colab": {
          "base_uri": "https://localhost:8080/",
          "height": 106
        },
        "id": "NpHli-w7kcas",
        "outputId": "2dcb4751-06d2-44b2-a389-562552cccf98"
      },
      "execution_count": 3,
      "outputs": [
        {
          "output_type": "error",
          "ename": "SyntaxError",
          "evalue": "Missing parentheses in call to 'print'. Did you mean print(...)? (<ipython-input-3-5218f3f4f9c2>, line 5)",
          "traceback": [
            "\u001b[0;36m  File \u001b[0;32m\"<ipython-input-3-5218f3f4f9c2>\"\u001b[0;36m, line \u001b[0;32m5\u001b[0m\n\u001b[0;31m    print x + y\u001b[0m\n\u001b[0m    ^\u001b[0m\n\u001b[0;31mSyntaxError\u001b[0m\u001b[0;31m:\u001b[0m Missing parentheses in call to 'print'. Did you mean print(...)?\n"
          ]
        }
      ]
    },
    {
      "cell_type": "code",
      "source": [
        "x == 3\n",
        "if x == 3:\n",
        "print('x é igual a', x,'!')\n",
        "print('Fim do bloco de código!')"
      ],
      "metadata": {
        "colab": {
          "base_uri": "https://localhost:8080/",
          "height": 106
        },
        "id": "Ov_zbI6_krDX",
        "outputId": "d554dbd5-74ea-4f36-a08c-e3ec3e7417dc"
      },
      "execution_count": 9,
      "outputs": [
        {
          "output_type": "error",
          "ename": "IndentationError",
          "evalue": "expected an indented block after 'if' statement on line 2 (<ipython-input-9-0aa7f986cbd6>, line 3)",
          "traceback": [
            "\u001b[0;36m  File \u001b[0;32m\"<ipython-input-9-0aa7f986cbd6>\"\u001b[0;36m, line \u001b[0;32m3\u001b[0m\n\u001b[0;31m    print('x é igual a', x,'!')\u001b[0m\n\u001b[0m    ^\u001b[0m\n\u001b[0;31mIndentationError\u001b[0m\u001b[0;31m:\u001b[0m expected an indented block after 'if' statement on line 2\n"
          ]
        }
      ]
    },
    {
      "cell_type": "code",
      "source": [
        "#Erro tempo de execução\n",
        "a = 1000\n",
        "b = 0\n",
        "c = a / b #não é divisível por zero"
      ],
      "metadata": {
        "colab": {
          "base_uri": "https://localhost:8080/",
          "height": 176
        },
        "id": "X0_4GeUclhtO",
        "outputId": "b7989b60-0268-463c-ddb7-0f98a57bf5fa"
      },
      "execution_count": 10,
      "outputs": [
        {
          "output_type": "error",
          "ename": "ZeroDivisionError",
          "evalue": "division by zero",
          "traceback": [
            "\u001b[0;31m---------------------------------------------------------------------------\u001b[0m",
            "\u001b[0;31mZeroDivisionError\u001b[0m                         Traceback (most recent call last)",
            "\u001b[0;32m<ipython-input-10-27c560210f94>\u001b[0m in \u001b[0;36m<cell line: 4>\u001b[0;34m()\u001b[0m\n\u001b[1;32m      2\u001b[0m \u001b[0ma\u001b[0m \u001b[0;34m=\u001b[0m \u001b[0;36m1000\u001b[0m\u001b[0;34m\u001b[0m\u001b[0;34m\u001b[0m\u001b[0m\n\u001b[1;32m      3\u001b[0m \u001b[0mb\u001b[0m \u001b[0;34m=\u001b[0m \u001b[0;36m0\u001b[0m\u001b[0;34m\u001b[0m\u001b[0;34m\u001b[0m\u001b[0m\n\u001b[0;32m----> 4\u001b[0;31m \u001b[0mc\u001b[0m \u001b[0;34m=\u001b[0m \u001b[0ma\u001b[0m \u001b[0;34m/\u001b[0m \u001b[0mb\u001b[0m\u001b[0;34m\u001b[0m\u001b[0;34m\u001b[0m\u001b[0m\n\u001b[0m",
            "\u001b[0;31mZeroDivisionError\u001b[0m: division by zero"
          ]
        }
      ]
    },
    {
      "cell_type": "code",
      "source": [
        "cidade = 'Rio Negro'\n",
        "estado = 'Parana'\n",
        "print(cidade, estado, pais)"
      ],
      "metadata": {
        "colab": {
          "base_uri": "https://localhost:8080/",
          "height": 176
        },
        "id": "hBXNOPximNHt",
        "outputId": "00f8a23e-d35e-4fb8-b581-0df959968543"
      },
      "execution_count": 11,
      "outputs": [
        {
          "output_type": "error",
          "ename": "NameError",
          "evalue": "name 'pais' is not defined",
          "traceback": [
            "\u001b[0;31m---------------------------------------------------------------------------\u001b[0m",
            "\u001b[0;31mNameError\u001b[0m                                 Traceback (most recent call last)",
            "\u001b[0;32m<ipython-input-11-90c150c8a414>\u001b[0m in \u001b[0;36m<cell line: 3>\u001b[0;34m()\u001b[0m\n\u001b[1;32m      1\u001b[0m \u001b[0mcidade\u001b[0m \u001b[0;34m=\u001b[0m \u001b[0;34m'Rio Negro'\u001b[0m\u001b[0;34m\u001b[0m\u001b[0;34m\u001b[0m\u001b[0m\n\u001b[1;32m      2\u001b[0m \u001b[0mestado\u001b[0m \u001b[0;34m=\u001b[0m \u001b[0;34m'Parana'\u001b[0m\u001b[0;34m\u001b[0m\u001b[0;34m\u001b[0m\u001b[0m\n\u001b[0;32m----> 3\u001b[0;31m \u001b[0mprint\u001b[0m\u001b[0;34m(\u001b[0m\u001b[0mcidade\u001b[0m\u001b[0;34m,\u001b[0m \u001b[0mestado\u001b[0m\u001b[0;34m,\u001b[0m \u001b[0mpais\u001b[0m\u001b[0;34m)\u001b[0m\u001b[0;34m\u001b[0m\u001b[0;34m\u001b[0m\u001b[0m\n\u001b[0m",
            "\u001b[0;31mNameError\u001b[0m: name 'pais' is not defined"
          ]
        }
      ]
    },
    {
      "cell_type": "code",
      "source": [
        "#Erro Lógicos\n",
        "\n",
        "x = 5.0\n",
        "y = 7.0\n",
        "z = 12.0\n",
        "media_errada = x + y + z / 3\n",
        "print('Essa é a média errada:',media_errada)\n",
        "media_certa = (x + y + z)/ 3\n",
        "print(f'Essa é a media correta:',media_certa)\n"
      ],
      "metadata": {
        "colab": {
          "base_uri": "https://localhost:8080/"
        },
        "id": "ztViEZhDmhNI",
        "outputId": "d64ca2aa-d1fc-4a58-ba48-fa279d588387"
      },
      "execution_count": 16,
      "outputs": [
        {
          "output_type": "stream",
          "name": "stdout",
          "text": [
            "Essa é a média errada: 16.0\n",
            "Essa é a media correta: 8.0\n"
          ]
        }
      ]
    }
  ]
}